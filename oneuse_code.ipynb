{
 "cells": [
  {
   "cell_type": "markdown",
   "metadata": {},
   "source": [
    "these are code for process data, most of  them  are used only once, so I put them here just for backup and check\n"
   ]
  },
  {
   "cell_type": "code",
   "execution_count": null,
   "metadata": {},
   "outputs": [],
   "source": []
  },
  {
   "cell_type": "code",
   "execution_count": null,
   "metadata": {},
   "outputs": [],
   "source": []
  },
  {
   "cell_type": "code",
   "execution_count": null,
   "metadata": {},
   "outputs": [],
   "source": [
    "# file_path = './test.txt'\n",
    "    # tokens = read_and_tokenize(file_path)\n",
    "    # print(tokens)\n",
    "\n",
    "    # vacabulary is in vocab.txt, each line is a word, length of vocab is 10000\n",
    "\n",
    "    # get all vocab\n",
    "    # vocab = get_vocab()\n",
    "    # open glove.840B.300d.txt, for our vocab, record the word \n",
    "    # if one word of our vocab is not in glove, then report it at the end\n",
    "    # if one word of our vocab is in glove, then record it in glove_local.txt\n",
    "\n",
    "    # with open('./glove.840B.300d.txt', 'r') as f:\n",
    "    #     lines = f.readlines()\n",
    "    # with open('./glove_local.txt', 'w') as f:\n",
    "    #     for line in lines:\n",
    "    #         word = line.split()[0]\n",
    "    #         if word in vocab:\n",
    "    #             f.write(line)\n",
    "    #             vocab.remove(word)\n",
    "    # print('length of remaining vocab is {}'.format(len(vocab)))\n",
    "    # print(vocab)\n",
    "    # record the remaining vocab in vocab_remain.txt\n",
    "    # with open('./vocab_remain.txt', 'w') as f:\n",
    "    #     for word in vocab:\n",
    "    #         f.write(word + '\\n')\n",
    "\n",
    "    # read the remaining vocab from vocab_remain.txt\n",
    "    # vocab_remain = get_vocab('./vocab_remain.txt')\n",
    "    # use random initializations to initialize the remaining vocab\n",
    "    # write the remaining vocab in glove_local.txt\n",
    "\n",
    "    # with open('./glove_local.txt', 'a') as f:\n",
    "    #     for word in vocab_remain:\n",
    "    #         f.write(word + ' ' + ' '.join([str(random.random()) for _ in range(300)]) + '\\n')\n",
    "\n",
    "    embeddings_dict = {}\n",
    "    with open('./glove_local.txt', 'r') as f:\n",
    "        for line in f:\n",
    "            values = line.split()\n",
    "            word = values[0]\n",
    "            vector = np.asarray(values[1:], \"float32\")\n",
    "            embeddings_dict[word] = vector\n",
    "    print('length of embeddings_dict is {}'.format(len(embeddings_dict)))\n",
    "    print(embeddings_dict['the'])"
   ]
  },
  {
   "cell_type": "code",
   "execution_count": null,
   "metadata": {},
   "outputs": [],
   "source": []
  },
  {
   "cell_type": "code",
   "execution_count": null,
   "metadata": {},
   "outputs": [],
   "source": [
    "# vocab_remain =  get_vocab('./vocab_remain.txt') \n",
    "    # with open('./glove_local.txt', 'a') as f:\n",
    "    #     for word in vocab_remain:\n",
    "    #         a = np.random.normal(0, 1, 300)\n",
    "    #         a = a / np.linalg.norm(a)\n",
    "    #         f.write(word + ' ' + ' '.join([str(x) for x in a]) + '\\n')"
   ]
  },
  {
   "cell_type": "code",
   "execution_count": 2,
   "metadata": {},
   "outputs": [
    {
     "name": "stdout",
     "output_type": "stream",
     "text": [
      "9714\n",
      "286\n"
     ]
    }
   ],
   "source": [
    "\n",
    "import os\n",
    "\n",
    "with open('./vocab2.txt', 'r') as f:\n",
    "    content = f.readlines()\n",
    "with open('./vocab_remain.txt', 'r') as f:\n",
    "    remain = f.readlines()\n",
    "\n",
    "new = []\n",
    "new2 = []\n",
    "for word in content:\n",
    "    if word not in remain:\n",
    "        new.append(word)\n",
    "    else:\n",
    "        new2.append(word)\n",
    "\n",
    "print(len(new))\n",
    "print(len(new2))\n",
    "\n",
    "z = new + new2\n",
    "\n",
    "with open('./vocab.txt', 'w') as f:\n",
    "    for i in z:\n",
    "        f.write(i)\n"
   ]
  },
  {
   "cell_type": "code",
   "execution_count": 5,
   "metadata": {},
   "outputs": [],
   "source": [
    "with open('./test_loader.txt', 'w') as f:\n",
    "    for j in range(1):\n",
    "        for i in range(100000):\n",
    "            f.write(str(i) + ' ')"
   ]
  },
  {
   "cell_type": "code",
   "execution_count": 4,
   "metadata": {},
   "outputs": [],
   "source": [
    "with open('./test_vocb.txt', 'w') as f:\n",
    "    \n",
    "    for i in range(100000):\n",
    "        f.write(str(i)+ '\\n')"
   ]
  }
 ],
 "metadata": {
  "kernelspec": {
   "display_name": "base",
   "language": "python",
   "name": "python3"
  },
  "language_info": {
   "codemirror_mode": {
    "name": "ipython",
    "version": 3
   },
   "file_extension": ".py",
   "mimetype": "text/x-python",
   "name": "python",
   "nbconvert_exporter": "python",
   "pygments_lexer": "ipython3",
   "version": "3.11.4"
  }
 },
 "nbformat": 4,
 "nbformat_minor": 2
}
